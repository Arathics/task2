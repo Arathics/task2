{
  "nbformat": 4,
  "nbformat_minor": 0,
  "metadata": {
    "colab": {
      "provenance": []
    },
    "kernelspec": {
      "name": "python3",
      "display_name": "Python 3"
    },
    "language_info": {
      "name": "python"
    }
  },
  "cells": [
    {
      "cell_type": "code",
      "execution_count": 13,
      "metadata": {
        "id": "d9HGpL9tAJwu"
      },
      "outputs": [],
      "source": [
        "import pandas as pd\n",
        "# Assuming you have the data in a dictionary or list format:\n",
        "data = {\n",
        "  \"Name\": [\"Alice\", \"Bob\", \"Charlie\", \"David\", \"Emily\"],\n",
        "  \"Age\": [30, 25, 42, 18, 28],\n",
        "  \"City\": [\"New York\", \"London\", \"Paris\", \"Berlin\", \"Tokyo\"],\n",
        "  \"Salary\": [80000, 75000, 100000, 50000, 90000]\n",
        "}\n",
        "\n",
        "# Create a DataFrame from the data\n",
        "df = pd.DataFrame(data)\n",
        "\n",
        "# Save the DataFrame to a CSV file\n",
        "df.to_csv(\"data.csv\", index=False)\n",
        "\n",
        "\n"
      ]
    },
    {
      "cell_type": "markdown",
      "source": [
        "**DATA** **MANIPULATION**\n",
        "\n",
        "**Filtering** **data**"
      ],
      "metadata": {
        "id": "8swdoqG9JQ1E"
      }
    },
    {
      "cell_type": "code",
      "source": [
        "#Filter Adulta(age>=18):\n",
        "adults_df = df[df[\"Age\"] >= 18]\n",
        "print(adults_df)\n"
      ],
      "metadata": {
        "colab": {
          "base_uri": "https://localhost:8080/"
        },
        "id": "QNw98rqHJKAj",
        "outputId": "47b1f11e-70f4-446c-9d15-72739a608ec3"
      },
      "execution_count": 14,
      "outputs": [
        {
          "output_type": "stream",
          "name": "stdout",
          "text": [
            "      Name  Age      City  Salary\n",
            "0    Alice   30  New York   80000\n",
            "1      Bob   25    London   75000\n",
            "2  Charlie   42     Paris  100000\n",
            "3    David   18    Berlin   50000\n",
            "4    Emily   28     Tokyo   90000\n"
          ]
        }
      ]
    },
    {
      "cell_type": "code",
      "source": [
        "#Filter for people making over 80,000:\n",
        "high_earners_df = df[df[\"Salary\"] > 80000]\n",
        "print(high_earners_df)"
      ],
      "metadata": {
        "colab": {
          "base_uri": "https://localhost:8080/"
        },
        "id": "-3zLFs_9Imf-",
        "outputId": "fc18b80d-e6e3-4c4b-c0d3-104c3c4d8047"
      },
      "execution_count": 11,
      "outputs": [
        {
          "output_type": "stream",
          "name": "stdout",
          "text": [
            "      Name  Age   City  Salary\n",
            "2  Charlie   42  Paris  100000\n",
            "4    Emily   28  Tokyo   90000\n"
          ]
        }
      ]
    },
    {
      "cell_type": "code",
      "source": [
        "#Filter for people from New York or London:\n",
        "specific_cities_df = df[(df[\"City\"] == \"New York\") | (df[\"City\"] == \"London\")]\n",
        "print(specific_cities_df)"
      ],
      "metadata": {
        "colab": {
          "base_uri": "https://localhost:8080/"
        },
        "id": "CK4oZf0kIvU_",
        "outputId": "14fbee3a-2287-4379-8a3c-3e4f7506d044"
      },
      "execution_count": 12,
      "outputs": [
        {
          "output_type": "stream",
          "name": "stdout",
          "text": [
            "    Name  Age      City  Salary\n",
            "0  Alice   30  New York   80000\n",
            "1    Bob   25    London   75000\n"
          ]
        }
      ]
    },
    {
      "cell_type": "markdown",
      "source": [
        "***Handling Missing Values ***"
      ],
      "metadata": {
        "id": "ZktmqETkJskZ"
      }
    },
    {
      "cell_type": "code",
      "source": [
        "#Check for missing values:\n",
        "print(df.isnull().sum())"
      ],
      "metadata": {
        "colab": {
          "base_uri": "https://localhost:8080/"
        },
        "id": "bxKoSeksJrJT",
        "outputId": "58c760fb-c1c4-45e8-8466-632cb5c94214"
      },
      "execution_count": 16,
      "outputs": [
        {
          "output_type": "stream",
          "name": "stdout",
          "text": [
            "Name      0\n",
            "Age       0\n",
            "City      0\n",
            "Salary    0\n",
            "dtype: int64\n"
          ]
        }
      ]
    },
    {
      "cell_type": "code",
      "source": [
        "#Drop rows with missing values:\n",
        "df_no_missing = df.dropna()\n",
        "print(df_no_missing)"
      ],
      "metadata": {
        "colab": {
          "base_uri": "https://localhost:8080/"
        },
        "id": "utgyjdOrKvz5",
        "outputId": "cd3802ae-14dc-4c54-b784-4fc4287240ab"
      },
      "execution_count": 17,
      "outputs": [
        {
          "output_type": "stream",
          "name": "stdout",
          "text": [
            "      Name  Age      City  Salary\n",
            "0    Alice   30  New York   80000\n",
            "1      Bob   25    London   75000\n",
            "2  Charlie   42     Paris  100000\n",
            "3    David   18    Berlin   50000\n",
            "4    Emily   28     Tokyo   90000\n"
          ]
        }
      ]
    },
    {
      "cell_type": "markdown",
      "source": [
        "**Calculating** **Summary** **Statistics**"
      ],
      "metadata": {
        "id": "90WgGQaeLuJx"
      }
    },
    {
      "cell_type": "code",
      "source": [
        "#Get descriptive statistics for all numeric columns:\n",
        "print(df.describe())"
      ],
      "metadata": {
        "colab": {
          "base_uri": "https://localhost:8080/"
        },
        "id": "1JIa1MOgL1P2",
        "outputId": "74e77635-4bf0-4c2a-ef80-124a28dd7350"
      },
      "execution_count": 20,
      "outputs": [
        {
          "output_type": "stream",
          "name": "stdout",
          "text": [
            "             Age         Salary\n",
            "count   5.000000       5.000000\n",
            "mean   28.600000   79000.000000\n",
            "std     8.763561   18841.443681\n",
            "min    18.000000   50000.000000\n",
            "25%    25.000000   75000.000000\n",
            "50%    28.000000   80000.000000\n",
            "75%    30.000000   90000.000000\n",
            "max    42.000000  100000.000000\n"
          ]
        }
      ]
    },
    {
      "cell_type": "code",
      "source": [
        "#Find the minimum and maximum salary:\n",
        "min_salary = df[\"Salary\"].min()\n",
        "max_salary = df[\"Salary\"].max()\n",
        "print(\"Minimum Salary:\", min_salary)\n",
        "print(\"Maximum Salary:\", max_salary)"
      ],
      "metadata": {
        "colab": {
          "base_uri": "https://localhost:8080/"
        },
        "id": "cuheWYTLMCoP",
        "outputId": "01f7b6ae-4527-4628-a337-3873e2e2a595"
      },
      "execution_count": 21,
      "outputs": [
        {
          "output_type": "stream",
          "name": "stdout",
          "text": [
            "Minimum Salary: 50000\n",
            "Maximum Salary: 100000\n"
          ]
        }
      ]
    },
    {
      "cell_type": "code",
      "source": [
        "#Calculate the average age grouped by city:\n",
        "average_age_by_city = df.groupby(\"City\")[\"Age\"].mean()\n",
        "print(average_age_by_city)"
      ],
      "metadata": {
        "colab": {
          "base_uri": "https://localhost:8080/"
        },
        "id": "VTeyRXoNMOI8",
        "outputId": "9e43cbaf-319e-4c6e-8276-3662cdfc6f03"
      },
      "execution_count": 22,
      "outputs": [
        {
          "output_type": "stream",
          "name": "stdout",
          "text": [
            "City\n",
            "Berlin      18.0\n",
            "London      25.0\n",
            "New York    30.0\n",
            "Paris       42.0\n",
            "Tokyo       28.0\n",
            "Name: Age, dtype: float64\n"
          ]
        }
      ]
    }
  ]
}